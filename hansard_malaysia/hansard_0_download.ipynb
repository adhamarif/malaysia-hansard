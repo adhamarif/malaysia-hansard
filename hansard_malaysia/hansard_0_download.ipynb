{
 "cells": [
  {
   "cell_type": "code",
   "execution_count": 3,
   "id": "30b33073",
   "metadata": {},
   "outputs": [],
   "source": [
    "import urllib.request\n",
    "import pandas as pd\n",
    "import time\n",
    "from tqdm.notebook import tqdm"
   ]
  },
  {
   "cell_type": "code",
   "execution_count": 4,
   "id": "cd31df1f",
   "metadata": {},
   "outputs": [],
   "source": [
    "current_session = \"session_15\""
   ]
  },
  {
   "cell_type": "code",
   "execution_count": 40,
   "id": "56e60bd6",
   "metadata": {},
   "outputs": [],
   "source": [
    "df = pd.read_csv(f'sessions/{current_session}/{current_session}.csv', parse_dates=['date'], infer_datetime_format=True)\n",
    "df.date = df.date.dt.date\n",
    "sessions = df.session.tolist()\n",
    "session_date = dict(zip(df.session,df.date))"
   ]
  },
  {
   "cell_type": "code",
   "execution_count": 10,
   "id": "a89c1e32",
   "metadata": {},
   "outputs": [
    {
     "data": {
      "application/vnd.jupyter.widget-view+json": {
       "model_id": "a04e2cb391d34dcda35c825b03074cd4",
       "version_major": 2,
       "version_minor": 0
      },
      "text/plain": [
       "  0%|          | 0/33 [00:00<?, ?it/s]"
      ]
     },
     "metadata": {},
     "output_type": "display_data"
    }
   ],
   "source": [
    "for session in tqdm(sessions):\n",
    "    #print(s)\n",
    "    tdate = session_date[session].strftime('%d%m%Y')\n",
    "    url_hansard = 'https://www.parlimen.gov.my/files/hindex/pdf/DR-' + tdate +  '.pdf'\n",
    "    urllib.request.urlretrieve(url_hansard, f'src_hansard/{current_session}/hansard_' + session + '.pdf')\n",
    "    time.sleep(10)"
   ]
  },
  {
   "cell_type": "code",
   "execution_count": 27,
   "id": "5c826344",
   "metadata": {
    "scrolled": true
   },
   "outputs": [
    {
     "name": "stdout",
     "output_type": "stream",
     "text": [
      "This file is missing: hansard_15-2-1-12\n",
      "This file is missing: hansard_15-2-1-13\n",
      "This file is missing: hansard_15-2-1-14\n",
      "This file is missing: hansard_15-2-1-15\n",
      "This file is missing: hansard_15-2-1-16\n",
      "This file is missing: hansard_15-2-1-17\n",
      "This file is missing: hansard_15-2-1-30\n"
     ]
    }
   ],
   "source": [
    "import os\n",
    "#os.getcwd()\n",
    "folder_PATH = f\"src_hansard/{current_session}\"\n",
    "\n",
    "for session in sessions:\n",
    "    if not os.path.exists(f\"{folder_PATH}/hansard_{session}.pdf\"):\n",
    "        print(f\"This file is missing: hansard_{session}\") "
   ]
  },
  {
   "cell_type": "markdown",
   "id": "d32e962c",
   "metadata": {},
   "source": [
    "only run this when there are missing files!"
   ]
  },
  {
   "cell_type": "code",
   "execution_count": 42,
   "id": "779b2b2c",
   "metadata": {},
   "outputs": [
    {
     "data": {
      "application/vnd.jupyter.widget-view+json": {
       "model_id": "79e0912edb214fc1a5810bdb0e7b9820",
       "version_major": 2,
       "version_minor": 0
      },
      "text/plain": [
       "  0%|          | 0/33 [00:00<?, ?it/s]"
      ]
     },
     "metadata": {},
     "output_type": "display_data"
    }
   ],
   "source": [
    "for session in tqdm(sessions):\n",
    "    if not os.path.exists(f\"{folder_PATH}/hansard_{session}.pdf\"):\n",
    "        tdate = session_date[session].strftime('%d%m%Y')\n",
    "        url_hansard = 'https://www.parlimen.gov.my/files/hindex/pdf/DR-' + tdate +  '.pdf'\n",
    "        urllib.request.urlretrieve(url_hansard, f'src_hansard/{current_session}/hansard_' + session + '.pdf')\n",
    "        time.sleep(10)"
   ]
  },
  {
   "cell_type": "code",
   "execution_count": null,
   "id": "2c2ffb5f",
   "metadata": {},
   "outputs": [],
   "source": []
  }
 ],
 "metadata": {
  "jupytext": {
   "cell_metadata_filter": "-all",
   "main_language": "python",
   "notebook_metadata_filter": "-all"
  },
  "kernelspec": {
   "display_name": "Python 3 (ipykernel)",
   "language": "python",
   "name": "python3"
  },
  "language_info": {
   "codemirror_mode": {
    "name": "ipython",
    "version": 3
   },
   "file_extension": ".py",
   "mimetype": "text/x-python",
   "name": "python",
   "nbconvert_exporter": "python",
   "pygments_lexer": "ipython3",
   "version": "3.8.13"
  }
 },
 "nbformat": 4,
 "nbformat_minor": 5
}
