{
 "cells": [
  {
   "cell_type": "code",
   "execution_count": 44,
   "id": "695da137",
   "metadata": {},
   "outputs": [],
   "source": [
    "import pandas as pd\n",
    "from tabulate import tabulate"
   ]
  },
  {
   "cell_type": "code",
   "execution_count": 45,
   "id": "57446695",
   "metadata": {},
   "outputs": [],
   "source": [
    "#empty_seats = ['P054','P185']\n",
    "current_session = \"session_15\""
   ]
  },
  {
   "cell_type": "code",
   "execution_count": 47,
   "id": "f10d14f0",
   "metadata": {},
   "outputs": [],
   "source": [
    "at = pd.read_csv(f'sessions/{current_session}/attendance_{current_session}.csv')\n",
    "ab = pd.read_csv(f'sessions/{current_session}/absence_{current_session}.csv')\n",
    "assert len(at.columns) == len(ab.columns), 'Dataframes are not of equal width'\n",
    "n_sessions = len(at.columns) - 4"
   ]
  },
  {
   "cell_type": "code",
   "execution_count": 52,
   "id": "98bb60ea",
   "metadata": {},
   "outputs": [],
   "source": [
    "col_summary = ['seat_code','seat','mp','total']\n",
    "df = pd.merge(at[col_summary],\n",
    "              ab[col_summary],\n",
    "              on=col_summary[:3],how='inner').rename(columns={'total_x':'present','total_y':'absent'})\n",
    "df['total'] = df.present + df.absent\n",
    "df.mp = df.mp.fillna('')\n",
    "#df = df[~df.seat_code.isin(empty_seats)]"
   ]
  },
  {
   "cell_type": "code",
   "execution_count": 53,
   "id": "b0c59fd2",
   "metadata": {},
   "outputs": [
    {
     "data": {
      "text/html": [
       "<div>\n",
       "<style scoped>\n",
       "    .dataframe tbody tr th:only-of-type {\n",
       "        vertical-align: middle;\n",
       "    }\n",
       "\n",
       "    .dataframe tbody tr th {\n",
       "        vertical-align: top;\n",
       "    }\n",
       "\n",
       "    .dataframe thead th {\n",
       "        text-align: right;\n",
       "    }\n",
       "</style>\n",
       "<table border=\"1\" class=\"dataframe\">\n",
       "  <thead>\n",
       "    <tr style=\"text-align: right;\">\n",
       "      <th></th>\n",
       "      <th>seat_code</th>\n",
       "      <th>seat</th>\n",
       "      <th>mp</th>\n",
       "      <th>present</th>\n",
       "      <th>absent</th>\n",
       "      <th>total</th>\n",
       "    </tr>\n",
       "  </thead>\n",
       "  <tbody>\n",
       "    <tr>\n",
       "      <th>0</th>\n",
       "      <td>P001</td>\n",
       "      <td>Padang Besar</td>\n",
       "      <td>RUSHDAN BIN RUSMI</td>\n",
       "      <td>33</td>\n",
       "      <td>0</td>\n",
       "      <td>33</td>\n",
       "    </tr>\n",
       "    <tr>\n",
       "      <th>1</th>\n",
       "      <td>P002</td>\n",
       "      <td>Kangar</td>\n",
       "      <td>ZAKRI BIN HASSAN</td>\n",
       "      <td>33</td>\n",
       "      <td>0</td>\n",
       "      <td>33</td>\n",
       "    </tr>\n",
       "    <tr>\n",
       "      <th>2</th>\n",
       "      <td>P003</td>\n",
       "      <td>Arau</td>\n",
       "      <td>SHAHIDAN BIN KASSIM</td>\n",
       "      <td>33</td>\n",
       "      <td>0</td>\n",
       "      <td>33</td>\n",
       "    </tr>\n",
       "    <tr>\n",
       "      <th>3</th>\n",
       "      <td>P004</td>\n",
       "      <td>Langkawi</td>\n",
       "      <td>MOHD SUHAIMI BIN ABDULLAH</td>\n",
       "      <td>33</td>\n",
       "      <td>0</td>\n",
       "      <td>33</td>\n",
       "    </tr>\n",
       "    <tr>\n",
       "      <th>4</th>\n",
       "      <td>P005</td>\n",
       "      <td>Jerlun</td>\n",
       "      <td>ABDUL GHANI BIN AHMAD</td>\n",
       "      <td>26</td>\n",
       "      <td>7</td>\n",
       "      <td>33</td>\n",
       "    </tr>\n",
       "    <tr>\n",
       "      <th>...</th>\n",
       "      <td>...</td>\n",
       "      <td>...</td>\n",
       "      <td>...</td>\n",
       "      <td>...</td>\n",
       "      <td>...</td>\n",
       "      <td>...</td>\n",
       "    </tr>\n",
       "    <tr>\n",
       "      <th>217</th>\n",
       "      <td>P218</td>\n",
       "      <td>Sibuti</td>\n",
       "      <td>LUKANISMAN BIN AWANG SAUNI</td>\n",
       "      <td>33</td>\n",
       "      <td>0</td>\n",
       "      <td>33</td>\n",
       "    </tr>\n",
       "    <tr>\n",
       "      <th>218</th>\n",
       "      <td>P219</td>\n",
       "      <td>Miri</td>\n",
       "      <td>CHIEW CHOON MAN</td>\n",
       "      <td>31</td>\n",
       "      <td>2</td>\n",
       "      <td>33</td>\n",
       "    </tr>\n",
       "    <tr>\n",
       "      <th>219</th>\n",
       "      <td>P220</td>\n",
       "      <td>Baram</td>\n",
       "      <td>ANYI NGAU</td>\n",
       "      <td>32</td>\n",
       "      <td>1</td>\n",
       "      <td>33</td>\n",
       "    </tr>\n",
       "    <tr>\n",
       "      <th>220</th>\n",
       "      <td>P221</td>\n",
       "      <td>Limbang</td>\n",
       "      <td>HASBI BIN HABIBOLLAH</td>\n",
       "      <td>31</td>\n",
       "      <td>2</td>\n",
       "      <td>33</td>\n",
       "    </tr>\n",
       "    <tr>\n",
       "      <th>221</th>\n",
       "      <td>P222</td>\n",
       "      <td>Lawas</td>\n",
       "      <td>HENRY SUM AGONG</td>\n",
       "      <td>22</td>\n",
       "      <td>11</td>\n",
       "      <td>33</td>\n",
       "    </tr>\n",
       "  </tbody>\n",
       "</table>\n",
       "<p>222 rows × 6 columns</p>\n",
       "</div>"
      ],
      "text/plain": [
       "    seat_code          seat                          mp  present  absent  \\\n",
       "0        P001  Padang Besar           RUSHDAN BIN RUSMI       33       0   \n",
       "1        P002        Kangar            ZAKRI BIN HASSAN       33       0   \n",
       "2        P003          Arau         SHAHIDAN BIN KASSIM       33       0   \n",
       "3        P004      Langkawi   MOHD SUHAIMI BIN ABDULLAH       33       0   \n",
       "4        P005        Jerlun       ABDUL GHANI BIN AHMAD       26       7   \n",
       "..        ...           ...                         ...      ...     ...   \n",
       "217      P218        Sibuti  LUKANISMAN BIN AWANG SAUNI       33       0   \n",
       "218      P219          Miri             CHIEW CHOON MAN       31       2   \n",
       "219      P220         Baram                   ANYI NGAU       32       1   \n",
       "220      P221       Limbang        HASBI BIN HABIBOLLAH       31       2   \n",
       "221      P222         Lawas             HENRY SUM AGONG       22      11   \n",
       "\n",
       "     total  \n",
       "0       33  \n",
       "1       33  \n",
       "2       33  \n",
       "3       33  \n",
       "4       33  \n",
       "..     ...  \n",
       "217     33  \n",
       "218     33  \n",
       "219     33  \n",
       "220     33  \n",
       "221     33  \n",
       "\n",
       "[222 rows x 6 columns]"
      ]
     },
     "execution_count": 53,
     "metadata": {},
     "output_type": "execute_result"
    }
   ],
   "source": [
    "df"
   ]
  },
  {
   "cell_type": "code",
   "execution_count": 54,
   "id": "6adf1e5d",
   "metadata": {},
   "outputs": [
    {
     "name": "stdout",
     "output_type": "stream",
     "text": [
      "\n",
      "Total: 33 sessions\n",
      "\n",
      "Tabulations for these MPs are problematic\n",
      "\n",
      "+-------------+--------+------+-----------+----------+---------+\n",
      "| seat_code   | seat   | mp   | present   | absent   | total   |\n",
      "|-------------+--------+------+-----------+----------+---------|\n",
      "+-------------+--------+------+-----------+----------+---------+\n"
     ]
    }
   ],
   "source": [
    "print('\\nTotal: ' + str(n_sessions) + ' sessions\\n\\nTabulations for these MPs are problematic')\n",
    "print('\\n' + tabulate(df[df.total != n_sessions], headers='keys', tablefmt='psql', showindex=False))"
   ]
  },
  {
   "cell_type": "code",
   "execution_count": 55,
   "id": "05786665",
   "metadata": {},
   "outputs": [
    {
     "name": "stdout",
     "output_type": "stream",
     "text": [
      "\n",
      "+-------------+\n",
      "| seat_code   |\n",
      "|-------------|\n",
      "+-------------+\n"
     ]
    }
   ],
   "source": [
    "dt = (at.set_index(col_summary[:3]) + ab.set_index(col_summary[:3])).reset_index()\n",
    "dt.drop(['seat','mp'],axis=1,inplace=True)\n",
    "dt = dt[(dt.total != n_sessions) & (~dt.seat_code.isin(empty_seats))].set_index('seat_code').transpose()[:-1]\n",
    "dt['total'] = dt.sum(axis=1)\n",
    "dt = dt[dt.total != len(dt.columns) - 1].transpose().reset_index()[:-1]\n",
    "print('\\n' + tabulate(dt, headers='keys', tablefmt='psql', showindex=False))"
   ]
  },
  {
   "cell_type": "code",
   "execution_count": null,
   "id": "1e0491e2",
   "metadata": {},
   "outputs": [],
   "source": []
  }
 ],
 "metadata": {
  "jupytext": {
   "cell_metadata_filter": "-all",
   "main_language": "python",
   "notebook_metadata_filter": "-all"
  },
  "kernelspec": {
   "display_name": "Python 3 (ipykernel)",
   "language": "python",
   "name": "python3"
  },
  "language_info": {
   "codemirror_mode": {
    "name": "ipython",
    "version": 3
   },
   "file_extension": ".py",
   "mimetype": "text/x-python",
   "name": "python",
   "nbconvert_exporter": "python",
   "pygments_lexer": "ipython3",
   "version": "3.8.13"
  }
 },
 "nbformat": 4,
 "nbformat_minor": 5
}
