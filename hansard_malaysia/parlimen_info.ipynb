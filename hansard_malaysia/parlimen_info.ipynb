{
 "cells": [
  {
   "cell_type": "code",
   "execution_count": 1,
   "id": "e036f1e1",
   "metadata": {},
   "outputs": [],
   "source": [
    "from bs4 import BeautifulSoup\n",
    "import requests\n",
    "import pandas as pd\n",
    "import json\n",
    "import numpy as np"
   ]
  },
  {
   "cell_type": "markdown",
   "id": "c7b46a0b",
   "metadata": {},
   "source": [
    "## Get information on date and how much documents per session"
   ]
  },
  {
   "cell_type": "code",
   "execution_count": null,
   "id": "e2cbb148",
   "metadata": {},
   "outputs": [],
   "source": [
    "header = {'User-Agent':\n",
    "      'Mozilla/5.0 (X11; CrOS x86_64 10066.0.0) AppleWebKit/537.36 (KHTML, like Gecko) Chrome/102.0.0.0 Safari/537.36'}\n",
    "\n",
    "url = 'https://www.parlimen.gov.my/hansard-dewan-rakyat.html?uweb=dr&arkib=yes'\n",
    "\n",
    "html_text = requests.get(url, headers=header).text\n",
    "\n",
    "soap = BeautifulSoup(html_text, 'lxml')\n",
    "table = soap.find('div', class_='boxAktivitiContentText') #container with list of all date and hansard pdfs"
   ]
  },
  {
   "cell_type": "code",
   "execution_count": null,
   "id": "1c224176",
   "metadata": {},
   "outputs": [],
   "source": [
    "pdf_list = []\n",
    "for line in table.find_all('a'):\n",
    "    date = line.text  # get the date\n",
    "    #pdf_link = line['href']  # get the pdf link\n",
    "    pdf_list.append(date) #, pdf_link))"
   ]
  },
  {
   "cell_type": "code",
   "execution_count": null,
   "id": "95bd2d58",
   "metadata": {},
   "outputs": [],
   "source": [
    "len(pdf_list) #number of documents in current penggal"
   ]
  },
  {
   "cell_type": "markdown",
   "id": "402302da",
   "metadata": {},
   "source": [
    "penggal 1 have only 2 documents"
   ]
  },
  {
   "cell_type": "code",
   "execution_count": null,
   "id": "f9a53b6e",
   "metadata": {
    "scrolled": true
   },
   "outputs": [],
   "source": [
    "total_documents = len(pdf_list) + 2\n",
    "total_documents"
   ]
  },
  {
   "cell_type": "markdown",
   "id": "2e61190f",
   "metadata": {},
   "source": [
    "## Get information on mp in the current session"
   ]
  },
  {
   "cell_type": "code",
   "execution_count": 2,
   "id": "6eb6c23f",
   "metadata": {},
   "outputs": [],
   "source": [
    "import os\n",
    "\n",
    "path_data = os.getcwd()\n",
    "filename = os.path.join(path_data, \"work_draft/seat_code.csv\")\n",
    "\n",
    "seat_info = pd.read_csv(filename, delimiter=\",\")\n",
    "seat_info = seat_info.iloc[:, :].astype(\"string\")"
   ]
  },
  {
   "cell_type": "code",
   "execution_count": 3,
   "id": "fc7a7089",
   "metadata": {},
   "outputs": [
    {
     "data": {
      "text/html": [
       "<div>\n",
       "<style scoped>\n",
       "    .dataframe tbody tr th:only-of-type {\n",
       "        vertical-align: middle;\n",
       "    }\n",
       "\n",
       "    .dataframe tbody tr th {\n",
       "        vertical-align: top;\n",
       "    }\n",
       "\n",
       "    .dataframe thead th {\n",
       "        text-align: right;\n",
       "    }\n",
       "</style>\n",
       "<table border=\"1\" class=\"dataframe\">\n",
       "  <thead>\n",
       "    <tr style=\"text-align: right;\">\n",
       "      <th></th>\n",
       "      <th>seat_code</th>\n",
       "      <th>state</th>\n",
       "      <th>seat</th>\n",
       "    </tr>\n",
       "  </thead>\n",
       "  <tbody>\n",
       "    <tr>\n",
       "      <th>170</th>\n",
       "      <td>P171</td>\n",
       "      <td>Sabah</td>\n",
       "      <td>Sepanggar</td>\n",
       "    </tr>\n",
       "  </tbody>\n",
       "</table>\n",
       "</div>"
      ],
      "text/plain": [
       "    seat_code  state       seat\n",
       "170      P171  Sabah  Sepanggar"
      ]
     },
     "execution_count": 3,
     "metadata": {},
     "output_type": "execute_result"
    }
   ],
   "source": [
    "mask = seat_info[\"seat_code\"] == \"P171\"\n",
    "seat_info[mask]"
   ]
  },
  {
   "cell_type": "code",
   "execution_count": 4,
   "id": "dbe7fb23",
   "metadata": {},
   "outputs": [],
   "source": [
    "filename_2 = os.path.join(path_data, \"work_draft/mp_2022_12_19.csv\")\n",
    "\n",
    "mp = pd.read_csv(filename_2, delimiter=\",\")\n",
    "mp = mp.iloc[:, :].astype(\"string\")"
   ]
  },
  {
   "cell_type": "code",
   "execution_count": 5,
   "id": "0b7210df",
   "metadata": {},
   "outputs": [],
   "source": [
    "mp_info = seat_info.merge(mp, on=\"seat_code\", how=\"inner\")"
   ]
  },
  {
   "cell_type": "code",
   "execution_count": 6,
   "id": "dfb9e436",
   "metadata": {
    "scrolled": true
   },
   "outputs": [
    {
     "data": {
      "text/html": [
       "<div>\n",
       "<style scoped>\n",
       "    .dataframe tbody tr th:only-of-type {\n",
       "        vertical-align: middle;\n",
       "    }\n",
       "\n",
       "    .dataframe tbody tr th {\n",
       "        vertical-align: top;\n",
       "    }\n",
       "\n",
       "    .dataframe thead th {\n",
       "        text-align: right;\n",
       "    }\n",
       "</style>\n",
       "<table border=\"1\" class=\"dataframe\">\n",
       "  <thead>\n",
       "    <tr style=\"text-align: right;\">\n",
       "      <th></th>\n",
       "      <th>seat_code</th>\n",
       "      <th>state</th>\n",
       "      <th>seat</th>\n",
       "      <th>mp</th>\n",
       "      <th>current_party</th>\n",
       "    </tr>\n",
       "  </thead>\n",
       "  <tbody>\n",
       "    <tr>\n",
       "      <th>0</th>\n",
       "      <td>P001</td>\n",
       "      <td>Perlis</td>\n",
       "      <td>Padang Besar</td>\n",
       "      <td>RUSHDAN BIN RUSMI</td>\n",
       "      <td>&lt;NA&gt;</td>\n",
       "    </tr>\n",
       "    <tr>\n",
       "      <th>1</th>\n",
       "      <td>P002</td>\n",
       "      <td>Perlis</td>\n",
       "      <td>Kangar</td>\n",
       "      <td>ZAKRI BIN HASSAN</td>\n",
       "      <td>PPBM</td>\n",
       "    </tr>\n",
       "    <tr>\n",
       "      <th>2</th>\n",
       "      <td>P003</td>\n",
       "      <td>Perlis</td>\n",
       "      <td>Arau</td>\n",
       "      <td>SHAHIDAN BIN KASSIM</td>\n",
       "      <td>PAS</td>\n",
       "    </tr>\n",
       "    <tr>\n",
       "      <th>3</th>\n",
       "      <td>P004</td>\n",
       "      <td>Kedah</td>\n",
       "      <td>Langkawi</td>\n",
       "      <td>MOHD SUHAIMI BIN ABDULLAH</td>\n",
       "      <td>PPBM</td>\n",
       "    </tr>\n",
       "    <tr>\n",
       "      <th>4</th>\n",
       "      <td>P005</td>\n",
       "      <td>Kedah</td>\n",
       "      <td>Jerlun</td>\n",
       "      <td>ABDUL GHANI BIN AHMAD</td>\n",
       "      <td>PAS</td>\n",
       "    </tr>\n",
       "    <tr>\n",
       "      <th>...</th>\n",
       "      <td>...</td>\n",
       "      <td>...</td>\n",
       "      <td>...</td>\n",
       "      <td>...</td>\n",
       "      <td>...</td>\n",
       "    </tr>\n",
       "    <tr>\n",
       "      <th>217</th>\n",
       "      <td>P218</td>\n",
       "      <td>Sarawak</td>\n",
       "      <td>Sibuti</td>\n",
       "      <td>LUKANISMAN BIN AWANG SAUNI</td>\n",
       "      <td>Parti Pesaka Bumiputera Bersatu (PPB)</td>\n",
       "    </tr>\n",
       "    <tr>\n",
       "      <th>218</th>\n",
       "      <td>P219</td>\n",
       "      <td>Sarawak</td>\n",
       "      <td>Miri</td>\n",
       "      <td>CHIEW CHOON MAN</td>\n",
       "      <td>Parti Keadilan Rakyat (PKR)</td>\n",
       "    </tr>\n",
       "    <tr>\n",
       "      <th>219</th>\n",
       "      <td>P220</td>\n",
       "      <td>Sarawak</td>\n",
       "      <td>Baram</td>\n",
       "      <td>ANYI NGAU</td>\n",
       "      <td>PDP</td>\n",
       "    </tr>\n",
       "    <tr>\n",
       "      <th>220</th>\n",
       "      <td>P221</td>\n",
       "      <td>Sarawak</td>\n",
       "      <td>Limbang</td>\n",
       "      <td>HASBI BIN HABIBOLLAH</td>\n",
       "      <td>Parti Pesaka Bumiputera Bersatu (PBB)</td>\n",
       "    </tr>\n",
       "    <tr>\n",
       "      <th>221</th>\n",
       "      <td>P222</td>\n",
       "      <td>Sarawak</td>\n",
       "      <td>Lawas</td>\n",
       "      <td>HENRY SUM AGONG</td>\n",
       "      <td>Parti Pesaka Bumiputera Bersatu (PBB)</td>\n",
       "    </tr>\n",
       "  </tbody>\n",
       "</table>\n",
       "<p>222 rows × 5 columns</p>\n",
       "</div>"
      ],
      "text/plain": [
       "    seat_code    state          seat                          mp  \\\n",
       "0        P001   Perlis  Padang Besar           RUSHDAN BIN RUSMI   \n",
       "1        P002   Perlis        Kangar            ZAKRI BIN HASSAN   \n",
       "2        P003   Perlis          Arau         SHAHIDAN BIN KASSIM   \n",
       "3        P004    Kedah      Langkawi   MOHD SUHAIMI BIN ABDULLAH   \n",
       "4        P005    Kedah        Jerlun       ABDUL GHANI BIN AHMAD   \n",
       "..        ...      ...           ...                         ...   \n",
       "217      P218  Sarawak        Sibuti  LUKANISMAN BIN AWANG SAUNI   \n",
       "218      P219  Sarawak          Miri             CHIEW CHOON MAN   \n",
       "219      P220  Sarawak         Baram                   ANYI NGAU   \n",
       "220      P221  Sarawak       Limbang        HASBI BIN HABIBOLLAH   \n",
       "221      P222  Sarawak         Lawas             HENRY SUM AGONG   \n",
       "\n",
       "                             current_party  \n",
       "0                                     <NA>  \n",
       "1                                     PPBM  \n",
       "2                                      PAS  \n",
       "3                                     PPBM  \n",
       "4                                      PAS  \n",
       "..                                     ...  \n",
       "217  Parti Pesaka Bumiputera Bersatu (PPB)  \n",
       "218            Parti Keadilan Rakyat (PKR)  \n",
       "219                                    PDP  \n",
       "220  Parti Pesaka Bumiputera Bersatu (PBB)  \n",
       "221  Parti Pesaka Bumiputera Bersatu (PBB)  \n",
       "\n",
       "[222 rows x 5 columns]"
      ]
     },
     "execution_count": 6,
     "metadata": {},
     "output_type": "execute_result"
    }
   ],
   "source": [
    "mp_info"
   ]
  },
  {
   "cell_type": "code",
   "execution_count": 7,
   "id": "1876ed62",
   "metadata": {},
   "outputs": [
    {
     "data": {
      "text/html": [
       "<div>\n",
       "<style scoped>\n",
       "    .dataframe tbody tr th:only-of-type {\n",
       "        vertical-align: middle;\n",
       "    }\n",
       "\n",
       "    .dataframe tbody tr th {\n",
       "        vertical-align: top;\n",
       "    }\n",
       "\n",
       "    .dataframe thead th {\n",
       "        text-align: right;\n",
       "    }\n",
       "</style>\n",
       "<table border=\"1\" class=\"dataframe\">\n",
       "  <thead>\n",
       "    <tr style=\"text-align: right;\">\n",
       "      <th></th>\n",
       "      <th>seat_code</th>\n",
       "      <th>state</th>\n",
       "      <th>seat</th>\n",
       "      <th>mp</th>\n",
       "      <th>current_party</th>\n",
       "    </tr>\n",
       "  </thead>\n",
       "  <tbody>\n",
       "    <tr>\n",
       "      <th>169</th>\n",
       "      <td>P170</td>\n",
       "      <td>Sabah</td>\n",
       "      <td>Tuaran</td>\n",
       "      <td>MADIUS BIN TANGAU</td>\n",
       "      <td>UPKO</td>\n",
       "    </tr>\n",
       "  </tbody>\n",
       "</table>\n",
       "</div>"
      ],
      "text/plain": [
       "    seat_code  state    seat                 mp current_party\n",
       "169      P170  Sabah  Tuaran  MADIUS BIN TANGAU          UPKO"
      ]
     },
     "execution_count": 7,
     "metadata": {},
     "output_type": "execute_result"
    }
   ],
   "source": [
    "mask = mp_info[\"seat_code\"] == \"P170\"\n",
    "mp_info[mask]"
   ]
  },
  {
   "cell_type": "code",
   "execution_count": 8,
   "id": "2d53a86b",
   "metadata": {},
   "outputs": [
    {
     "name": "stdout",
     "output_type": "stream",
     "text": [
      "<class 'pandas.core.frame.DataFrame'>\n",
      "Int64Index: 222 entries, 0 to 221\n",
      "Data columns (total 5 columns):\n",
      " #   Column         Non-Null Count  Dtype \n",
      "---  ------         --------------  ----- \n",
      " 0   seat_code      222 non-null    string\n",
      " 1   state          222 non-null    string\n",
      " 2   seat           222 non-null    string\n",
      " 3   mp             222 non-null    string\n",
      " 4   current_party  216 non-null    string\n",
      "dtypes: string(5)\n",
      "memory usage: 10.4 KB\n"
     ]
    }
   ],
   "source": [
    "mp_info.info()"
   ]
  },
  {
   "cell_type": "code",
   "execution_count": 9,
   "id": "935c6348",
   "metadata": {},
   "outputs": [],
   "source": [
    "mp_info.to_csv('sessions/session_15/mp_session_15.csv',index=False)"
   ]
  },
  {
   "cell_type": "code",
   "execution_count": null,
   "id": "2950a232",
   "metadata": {},
   "outputs": [],
   "source": []
  }
 ],
 "metadata": {
  "kernelspec": {
   "display_name": "Python 3 (ipykernel)",
   "language": "python",
   "name": "python3"
  },
  "language_info": {
   "codemirror_mode": {
    "name": "ipython",
    "version": 3
   },
   "file_extension": ".py",
   "mimetype": "text/x-python",
   "name": "python",
   "nbconvert_exporter": "python",
   "pygments_lexer": "ipython3",
   "version": "3.8.13"
  }
 },
 "nbformat": 4,
 "nbformat_minor": 5
}
