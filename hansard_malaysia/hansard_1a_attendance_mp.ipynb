{
 "cells": [
  {
   "cell_type": "code",
   "execution_count": 1,
   "id": "aab98f21",
   "metadata": {
    "scrolled": true
   },
   "outputs": [],
   "source": [
    "import pandas as pd\n",
    "from datetime import date\n",
    "import PyPDF2\n",
    "from pdfminer.high_level import extract_text"
   ]
  },
  {
   "cell_type": "code",
   "execution_count": 2,
   "id": "bfcf65b8",
   "metadata": {},
   "outputs": [],
   "source": [
    "attendance_start = date(2022,12,19)\n",
    "current_session = \"session_15\""
   ]
  },
  {
   "cell_type": "code",
   "execution_count": 4,
   "id": "179764d4",
   "metadata": {
    "scrolled": true
   },
   "outputs": [],
   "source": [
    "ss = pd.read_csv(f'sessions/{current_session}/{current_session}.csv',parse_dates=['date'], infer_datetime_format=True)\n",
    "ss.date = pd.to_datetime(ss.date).dt.date\n",
    "ss = ss[ss.date >= attendance_start]\n",
    "sessions = ss.session.tolist()\n",
    "session_date = dict(zip(ss.session,ss.date))"
   ]
  },
  {
   "cell_type": "code",
   "execution_count": 5,
   "id": "95ada914",
   "metadata": {},
   "outputs": [],
   "source": [
    "mp = pd.read_csv(f'sessions/{current_session}/mp_session_15.csv') #,usecols=['seat_code','seat','mp'])\n",
    "mp = mp.iloc[:, :].astype(\"string\")\n",
    "mp['seat_search'] = ['(' + ''.join(area.split()).lower() + ')' for area in mp.seat.tolist()]"
   ]
  },
  {
   "cell_type": "code",
   "execution_count": 6,
   "id": "d475011d",
   "metadata": {
    "lines_to_next_cell": 1
   },
   "outputs": [
    {
     "data": {
      "text/html": [
       "<div>\n",
       "<style scoped>\n",
       "    .dataframe tbody tr th:only-of-type {\n",
       "        vertical-align: middle;\n",
       "    }\n",
       "\n",
       "    .dataframe tbody tr th {\n",
       "        vertical-align: top;\n",
       "    }\n",
       "\n",
       "    .dataframe thead th {\n",
       "        text-align: right;\n",
       "    }\n",
       "</style>\n",
       "<table border=\"1\" class=\"dataframe\">\n",
       "  <thead>\n",
       "    <tr style=\"text-align: right;\">\n",
       "      <th></th>\n",
       "      <th>date</th>\n",
       "      <th>P001</th>\n",
       "      <th>P002</th>\n",
       "      <th>P003</th>\n",
       "      <th>P004</th>\n",
       "      <th>P005</th>\n",
       "      <th>P006</th>\n",
       "      <th>P007</th>\n",
       "      <th>P008</th>\n",
       "      <th>P009</th>\n",
       "      <th>...</th>\n",
       "      <th>P213</th>\n",
       "      <th>P214</th>\n",
       "      <th>P215</th>\n",
       "      <th>P216</th>\n",
       "      <th>P217</th>\n",
       "      <th>P218</th>\n",
       "      <th>P219</th>\n",
       "      <th>P220</th>\n",
       "      <th>P221</th>\n",
       "      <th>P222</th>\n",
       "    </tr>\n",
       "  </thead>\n",
       "  <tbody>\n",
       "  </tbody>\n",
       "</table>\n",
       "<p>0 rows × 223 columns</p>\n",
       "</div>"
      ],
      "text/plain": [
       "Empty DataFrame\n",
       "Columns: [date, P001, P002, P003, P004, P005, P006, P007, P008, P009, P010, P011, P012, P013, P014, P015, P016, P017, P018, P019, P020, P021, P022, P023, P024, P025, P026, P027, P028, P029, P030, P031, P032, P033, P034, P035, P036, P037, P038, P039, P040, P041, P042, P043, P044, P045, P046, P047, P048, P049, P050, P051, P052, P053, P054, P055, P056, P057, P058, P059, P060, P061, P062, P063, P064, P065, P066, P067, P068, P069, P070, P071, P072, P073, P074, P075, P076, P077, P078, P079, P080, P081, P082, P083, P084, P085, P086, P087, P088, P089, P090, P091, P092, P093, P094, P095, P096, P097, P098, P099, ...]\n",
       "Index: []\n",
       "\n",
       "[0 rows x 223 columns]"
      ]
     },
     "execution_count": 6,
     "metadata": {},
     "output_type": "execute_result"
    }
   ],
   "source": [
    "df = pd.DataFrame(columns=['date'] + mp.seat_code.tolist())\n",
    "df.head()"
   ]
  },
  {
   "cell_type": "markdown",
   "id": "21198a40",
   "metadata": {},
   "source": [
    "### Strategy\n",
    "- Step 1: Use the phrase **\"Senarai Kehadiran\"** to find the page where the present list starts\n",
    "- Step 2: Use the phrase **\"Tidak Hadir\"** to find the page where the absent list starts\n",
    "- Step 3: Extract text from these pages, join, and remove anything after the **\"tidak hadir\"** phrase\n",
    "- Step 4: Encode everyone as absent; encode as present if in string from Step 3"
   ]
  },
  {
   "cell_type": "code",
   "execution_count": 8,
   "id": "90827315",
   "metadata": {
    "lines_to_next_cell": 1
   },
   "outputs": [],
   "source": [
    "def find_MP(seat,string): return 1 if seat in string else 0"
   ]
  },
  {
   "cell_type": "code",
   "execution_count": 9,
   "id": "5d846905",
   "metadata": {},
   "outputs": [
    {
     "data": {
      "application/vnd.jupyter.widget-view+json": {
       "model_id": "d083ad2a29c24c44b52b905008592bdc",
       "version_major": 2,
       "version_minor": 0
      },
      "text/plain": [
       "  0%|          | 0/33 [00:00<?, ?it/s]"
      ]
     },
     "metadata": {},
     "output_type": "display_data"
    }
   ],
   "source": [
    "from tqdm.notebook import tqdm\n",
    "\n",
    "for session in tqdm(sessions):\n",
    "    #print(session)\n",
    "    pdf_active = PyPDF2.PdfReader(open(f'src_hansard/{current_session}/hansard_' + session + '.pdf', 'rb', ),strict=False)\n",
    "    n_pages = len(pdf_active.pages)\n",
    "    extract_start = 0\n",
    "    start_set = 0\n",
    "    extract_end = 0\n",
    "    # create a for loop to find start and end page for MPs attendance\n",
    "    for page in range(n_pages):\n",
    "        page_active = ''.join(pdf_active.pages[page].extract_text().split()).lower()\n",
    "        if start_set == 0 and ('senaraikehadiran' in page_active or 'ahliyanghadir' in page_active):\n",
    "            extract_start = page\n",
    "            start_set = 1 # ensure first instance is taken and frozen\n",
    "        if 'yangtidakhadir' in page_active: extract_end = page\n",
    "        if extract_start > 0 and extract_end > 0: break # break the moment we find the end of the section\n",
    "\n",
    "    res = extract_text(f'src_hansard/{current_session}/hansard_' + session + '.pdf',page_numbers=[x for x in range(extract_start,extract_end+1)])\n",
    "    res = ''.join(res.split()).lower()\n",
    "    res = res.replace('(johorbaru)','(johorbahru)')\n",
    "    hadir = res.split('yangtidakhadir')[0] #only get list name that attend\n",
    "\n",
    "    # find MP attendance\n",
    "    attendance = [find_MP(area,hadir) for area in mp.seat_search.tolist()]\n",
    "    # add date and attendance by seats\n",
    "    df.loc[len(df)] = [session_date[session]] + attendance"
   ]
  },
  {
   "cell_type": "code",
   "execution_count": 10,
   "id": "26f86497",
   "metadata": {},
   "outputs": [],
   "source": [
    "df = df.set_index('date').transpose()\n",
    "df['total'] = df.sum(axis=1)\n",
    "session_dates = list(df.columns)\n",
    "df = df.reset_index().rename(columns={'index':'seat_code'})\n",
    "df = pd.merge(df,mp,on=['seat_code'],how='left')\n",
    "df = df[['seat_code','seat','mp'] + session_dates] # reorder the column"
   ]
  },
  {
   "cell_type": "code",
   "execution_count": 11,
   "id": "bc700a60",
   "metadata": {
    "scrolled": true
   },
   "outputs": [
    {
     "data": {
      "text/html": [
       "<div>\n",
       "<style scoped>\n",
       "    .dataframe tbody tr th:only-of-type {\n",
       "        vertical-align: middle;\n",
       "    }\n",
       "\n",
       "    .dataframe tbody tr th {\n",
       "        vertical-align: top;\n",
       "    }\n",
       "\n",
       "    .dataframe thead th {\n",
       "        text-align: right;\n",
       "    }\n",
       "</style>\n",
       "<table border=\"1\" class=\"dataframe\">\n",
       "  <thead>\n",
       "    <tr style=\"text-align: right;\">\n",
       "      <th></th>\n",
       "      <th>seat_code</th>\n",
       "      <th>seat</th>\n",
       "      <th>mp</th>\n",
       "      <th>2022-12-19</th>\n",
       "      <th>2022-12-20</th>\n",
       "      <th>2023-02-13</th>\n",
       "      <th>2023-02-14</th>\n",
       "      <th>2023-02-15</th>\n",
       "      <th>2023-02-16</th>\n",
       "      <th>2023-02-20</th>\n",
       "      <th>...</th>\n",
       "      <th>2023-03-21</th>\n",
       "      <th>2023-03-22</th>\n",
       "      <th>2023-03-23</th>\n",
       "      <th>2023-03-27</th>\n",
       "      <th>2023-03-28</th>\n",
       "      <th>2023-03-29</th>\n",
       "      <th>2023-03-30</th>\n",
       "      <th>2023-04-03</th>\n",
       "      <th>2023-04-04</th>\n",
       "      <th>total</th>\n",
       "    </tr>\n",
       "  </thead>\n",
       "  <tbody>\n",
       "    <tr>\n",
       "      <th>0</th>\n",
       "      <td>P001</td>\n",
       "      <td>Padang Besar</td>\n",
       "      <td>RUSHDAN BIN RUSMI</td>\n",
       "      <td>1</td>\n",
       "      <td>1</td>\n",
       "      <td>1</td>\n",
       "      <td>1</td>\n",
       "      <td>1</td>\n",
       "      <td>1</td>\n",
       "      <td>1</td>\n",
       "      <td>...</td>\n",
       "      <td>1</td>\n",
       "      <td>1</td>\n",
       "      <td>1</td>\n",
       "      <td>1</td>\n",
       "      <td>1</td>\n",
       "      <td>1</td>\n",
       "      <td>1</td>\n",
       "      <td>1</td>\n",
       "      <td>1</td>\n",
       "      <td>33</td>\n",
       "    </tr>\n",
       "    <tr>\n",
       "      <th>1</th>\n",
       "      <td>P002</td>\n",
       "      <td>Kangar</td>\n",
       "      <td>ZAKRI BIN HASSAN</td>\n",
       "      <td>1</td>\n",
       "      <td>1</td>\n",
       "      <td>1</td>\n",
       "      <td>1</td>\n",
       "      <td>1</td>\n",
       "      <td>1</td>\n",
       "      <td>1</td>\n",
       "      <td>...</td>\n",
       "      <td>1</td>\n",
       "      <td>1</td>\n",
       "      <td>1</td>\n",
       "      <td>1</td>\n",
       "      <td>1</td>\n",
       "      <td>1</td>\n",
       "      <td>1</td>\n",
       "      <td>1</td>\n",
       "      <td>1</td>\n",
       "      <td>33</td>\n",
       "    </tr>\n",
       "  </tbody>\n",
       "</table>\n",
       "<p>2 rows × 37 columns</p>\n",
       "</div>"
      ],
      "text/plain": [
       "  seat_code          seat                 mp  2022-12-19  2022-12-20  \\\n",
       "0      P001  Padang Besar  RUSHDAN BIN RUSMI           1           1   \n",
       "1      P002        Kangar   ZAKRI BIN HASSAN           1           1   \n",
       "\n",
       "   2023-02-13  2023-02-14  2023-02-15  2023-02-16  2023-02-20  ...  \\\n",
       "0           1           1           1           1           1  ...   \n",
       "1           1           1           1           1           1  ...   \n",
       "\n",
       "   2023-03-21  2023-03-22  2023-03-23  2023-03-27  2023-03-28  2023-03-29  \\\n",
       "0           1           1           1           1           1           1   \n",
       "1           1           1           1           1           1           1   \n",
       "\n",
       "   2023-03-30  2023-04-03  2023-04-04  total  \n",
       "0           1           1           1     33  \n",
       "1           1           1           1     33  \n",
       "\n",
       "[2 rows x 37 columns]"
      ]
     },
     "execution_count": 11,
     "metadata": {},
     "output_type": "execute_result"
    }
   ],
   "source": [
    "df.head(2)"
   ]
  },
  {
   "cell_type": "code",
   "execution_count": 12,
   "id": "fbe5281e",
   "metadata": {},
   "outputs": [],
   "source": [
    "df.to_csv(f'sessions/{current_session}/attendance_{current_session}.csv',index=False)"
   ]
  },
  {
   "cell_type": "markdown",
   "id": "ea276a2e",
   "metadata": {},
   "source": [
    "### Analysis for absence"
   ]
  },
  {
   "cell_type": "code",
   "execution_count": 13,
   "id": "00b3a02d",
   "metadata": {},
   "outputs": [
    {
     "name": "stderr",
     "output_type": "stream",
     "text": [
      "C:\\Users\\Asus\\AppData\\Local\\Temp\\ipykernel_14100\\683116486.py:3: FutureWarning: Dropping of nuisance columns in DataFrame reductions (with 'numeric_only=None') is deprecated; in a future version this will raise TypeError.  Select only valid columns before calling the reduction.\n",
      "  x_df['total'] = x_df.sum(axis=1)\n"
     ]
    }
   ],
   "source": [
    "x_df = df.drop(\"total\", axis=1).replace(0, 2)\n",
    "x_df.iloc[:, 3:] = x_df.iloc[:,3:] - 1\n",
    "x_df['total'] = x_df.sum(axis=1)"
   ]
  },
  {
   "cell_type": "code",
   "execution_count": 14,
   "id": "2be1718d",
   "metadata": {},
   "outputs": [
    {
     "data": {
      "text/html": [
       "<div>\n",
       "<style scoped>\n",
       "    .dataframe tbody tr th:only-of-type {\n",
       "        vertical-align: middle;\n",
       "    }\n",
       "\n",
       "    .dataframe tbody tr th {\n",
       "        vertical-align: top;\n",
       "    }\n",
       "\n",
       "    .dataframe thead th {\n",
       "        text-align: right;\n",
       "    }\n",
       "</style>\n",
       "<table border=\"1\" class=\"dataframe\">\n",
       "  <thead>\n",
       "    <tr style=\"text-align: right;\">\n",
       "      <th></th>\n",
       "      <th>seat_code</th>\n",
       "      <th>seat</th>\n",
       "      <th>mp</th>\n",
       "      <th>2022-12-19</th>\n",
       "      <th>2022-12-20</th>\n",
       "      <th>2023-02-13</th>\n",
       "      <th>2023-02-14</th>\n",
       "      <th>2023-02-15</th>\n",
       "      <th>2023-02-16</th>\n",
       "      <th>2023-02-20</th>\n",
       "      <th>...</th>\n",
       "      <th>2023-03-21</th>\n",
       "      <th>2023-03-22</th>\n",
       "      <th>2023-03-23</th>\n",
       "      <th>2023-03-27</th>\n",
       "      <th>2023-03-28</th>\n",
       "      <th>2023-03-29</th>\n",
       "      <th>2023-03-30</th>\n",
       "      <th>2023-04-03</th>\n",
       "      <th>2023-04-04</th>\n",
       "      <th>total</th>\n",
       "    </tr>\n",
       "  </thead>\n",
       "  <tbody>\n",
       "    <tr>\n",
       "      <th>0</th>\n",
       "      <td>P001</td>\n",
       "      <td>Padang Besar</td>\n",
       "      <td>RUSHDAN BIN RUSMI</td>\n",
       "      <td>0</td>\n",
       "      <td>0</td>\n",
       "      <td>0</td>\n",
       "      <td>0</td>\n",
       "      <td>0</td>\n",
       "      <td>0</td>\n",
       "      <td>0</td>\n",
       "      <td>...</td>\n",
       "      <td>0</td>\n",
       "      <td>0</td>\n",
       "      <td>0</td>\n",
       "      <td>0</td>\n",
       "      <td>0</td>\n",
       "      <td>0</td>\n",
       "      <td>0</td>\n",
       "      <td>0</td>\n",
       "      <td>0</td>\n",
       "      <td>0</td>\n",
       "    </tr>\n",
       "    <tr>\n",
       "      <th>1</th>\n",
       "      <td>P002</td>\n",
       "      <td>Kangar</td>\n",
       "      <td>ZAKRI BIN HASSAN</td>\n",
       "      <td>0</td>\n",
       "      <td>0</td>\n",
       "      <td>0</td>\n",
       "      <td>0</td>\n",
       "      <td>0</td>\n",
       "      <td>0</td>\n",
       "      <td>0</td>\n",
       "      <td>...</td>\n",
       "      <td>0</td>\n",
       "      <td>0</td>\n",
       "      <td>0</td>\n",
       "      <td>0</td>\n",
       "      <td>0</td>\n",
       "      <td>0</td>\n",
       "      <td>0</td>\n",
       "      <td>0</td>\n",
       "      <td>0</td>\n",
       "      <td>0</td>\n",
       "    </tr>\n",
       "    <tr>\n",
       "      <th>2</th>\n",
       "      <td>P003</td>\n",
       "      <td>Arau</td>\n",
       "      <td>SHAHIDAN BIN KASSIM</td>\n",
       "      <td>0</td>\n",
       "      <td>0</td>\n",
       "      <td>0</td>\n",
       "      <td>0</td>\n",
       "      <td>0</td>\n",
       "      <td>0</td>\n",
       "      <td>0</td>\n",
       "      <td>...</td>\n",
       "      <td>0</td>\n",
       "      <td>0</td>\n",
       "      <td>0</td>\n",
       "      <td>0</td>\n",
       "      <td>0</td>\n",
       "      <td>0</td>\n",
       "      <td>0</td>\n",
       "      <td>0</td>\n",
       "      <td>0</td>\n",
       "      <td>0</td>\n",
       "    </tr>\n",
       "    <tr>\n",
       "      <th>3</th>\n",
       "      <td>P004</td>\n",
       "      <td>Langkawi</td>\n",
       "      <td>MOHD SUHAIMI BIN ABDULLAH</td>\n",
       "      <td>0</td>\n",
       "      <td>0</td>\n",
       "      <td>0</td>\n",
       "      <td>0</td>\n",
       "      <td>0</td>\n",
       "      <td>0</td>\n",
       "      <td>0</td>\n",
       "      <td>...</td>\n",
       "      <td>0</td>\n",
       "      <td>0</td>\n",
       "      <td>0</td>\n",
       "      <td>0</td>\n",
       "      <td>0</td>\n",
       "      <td>0</td>\n",
       "      <td>0</td>\n",
       "      <td>0</td>\n",
       "      <td>0</td>\n",
       "      <td>0</td>\n",
       "    </tr>\n",
       "    <tr>\n",
       "      <th>4</th>\n",
       "      <td>P005</td>\n",
       "      <td>Jerlun</td>\n",
       "      <td>ABDUL GHANI BIN AHMAD</td>\n",
       "      <td>0</td>\n",
       "      <td>0</td>\n",
       "      <td>0</td>\n",
       "      <td>0</td>\n",
       "      <td>0</td>\n",
       "      <td>0</td>\n",
       "      <td>1</td>\n",
       "      <td>...</td>\n",
       "      <td>0</td>\n",
       "      <td>0</td>\n",
       "      <td>0</td>\n",
       "      <td>0</td>\n",
       "      <td>0</td>\n",
       "      <td>0</td>\n",
       "      <td>0</td>\n",
       "      <td>0</td>\n",
       "      <td>0</td>\n",
       "      <td>7</td>\n",
       "    </tr>\n",
       "  </tbody>\n",
       "</table>\n",
       "<p>5 rows × 37 columns</p>\n",
       "</div>"
      ],
      "text/plain": [
       "  seat_code          seat                         mp  2022-12-19  2022-12-20  \\\n",
       "0      P001  Padang Besar          RUSHDAN BIN RUSMI           0           0   \n",
       "1      P002        Kangar           ZAKRI BIN HASSAN           0           0   \n",
       "2      P003          Arau        SHAHIDAN BIN KASSIM           0           0   \n",
       "3      P004      Langkawi  MOHD SUHAIMI BIN ABDULLAH           0           0   \n",
       "4      P005        Jerlun      ABDUL GHANI BIN AHMAD           0           0   \n",
       "\n",
       "   2023-02-13  2023-02-14  2023-02-15  2023-02-16  2023-02-20  ...  \\\n",
       "0           0           0           0           0           0  ...   \n",
       "1           0           0           0           0           0  ...   \n",
       "2           0           0           0           0           0  ...   \n",
       "3           0           0           0           0           0  ...   \n",
       "4           0           0           0           0           1  ...   \n",
       "\n",
       "   2023-03-21  2023-03-22  2023-03-23  2023-03-27  2023-03-28  2023-03-29  \\\n",
       "0           0           0           0           0           0           0   \n",
       "1           0           0           0           0           0           0   \n",
       "2           0           0           0           0           0           0   \n",
       "3           0           0           0           0           0           0   \n",
       "4           0           0           0           0           0           0   \n",
       "\n",
       "   2023-03-30  2023-04-03  2023-04-04  total  \n",
       "0           0           0           0      0  \n",
       "1           0           0           0      0  \n",
       "2           0           0           0      0  \n",
       "3           0           0           0      0  \n",
       "4           0           0           0      7  \n",
       "\n",
       "[5 rows x 37 columns]"
      ]
     },
     "execution_count": 14,
     "metadata": {},
     "output_type": "execute_result"
    }
   ],
   "source": [
    "x_df.head(5)"
   ]
  },
  {
   "cell_type": "code",
   "execution_count": 15,
   "id": "c545f769",
   "metadata": {},
   "outputs": [],
   "source": [
    "x_df.to_csv(f'sessions/{current_session}/absence_{current_session}.csv',index=False)"
   ]
  },
  {
   "cell_type": "code",
   "execution_count": null,
   "id": "3b12c2a1",
   "metadata": {},
   "outputs": [],
   "source": []
  }
 ],
 "metadata": {
  "jupytext": {
   "cell_metadata_filter": "-all",
   "main_language": "python",
   "notebook_metadata_filter": "-all"
  },
  "kernelspec": {
   "display_name": "Python 3 (ipykernel)",
   "language": "python",
   "name": "python3"
  },
  "language_info": {
   "codemirror_mode": {
    "name": "ipython",
    "version": 3
   },
   "file_extension": ".py",
   "mimetype": "text/x-python",
   "name": "python",
   "nbconvert_exporter": "python",
   "pygments_lexer": "ipython3",
   "version": "3.8.13"
  }
 },
 "nbformat": 4,
 "nbformat_minor": 5
}
